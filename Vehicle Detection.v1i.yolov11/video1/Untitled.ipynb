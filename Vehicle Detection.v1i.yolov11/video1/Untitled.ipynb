{
 "cells": [
  {
   "cell_type": "code",
   "execution_count": 3,
   "id": "8b737506-d2bd-491a-94fc-1a58c57bad2d",
   "metadata": {},
   "outputs": [
    {
     "name": "stdout",
     "output_type": "stream",
     "text": [
      "Tổng số frame: 1520\n",
      "Số frame cần trích xuất: 10\n",
      "Bước nhảy: 152 frame\n",
      "Đã lưu: 8d8992b0-6fce-4020-bf8c-49d26828ae9e_frames\\8d8992b0-6fce-4020-bf8c-49d26828ae9e_frame_0000.jpg\n",
      "Đã lưu: 8d8992b0-6fce-4020-bf8c-49d26828ae9e_frames\\8d8992b0-6fce-4020-bf8c-49d26828ae9e_frame_0001.jpg\n",
      "Đã lưu: 8d8992b0-6fce-4020-bf8c-49d26828ae9e_frames\\8d8992b0-6fce-4020-bf8c-49d26828ae9e_frame_0002.jpg\n",
      "Đã lưu: 8d8992b0-6fce-4020-bf8c-49d26828ae9e_frames\\8d8992b0-6fce-4020-bf8c-49d26828ae9e_frame_0003.jpg\n",
      "Đã lưu: 8d8992b0-6fce-4020-bf8c-49d26828ae9e_frames\\8d8992b0-6fce-4020-bf8c-49d26828ae9e_frame_0004.jpg\n",
      "Đã lưu: 8d8992b0-6fce-4020-bf8c-49d26828ae9e_frames\\8d8992b0-6fce-4020-bf8c-49d26828ae9e_frame_0005.jpg\n",
      "Đã lưu: 8d8992b0-6fce-4020-bf8c-49d26828ae9e_frames\\8d8992b0-6fce-4020-bf8c-49d26828ae9e_frame_0006.jpg\n",
      "Đã lưu: 8d8992b0-6fce-4020-bf8c-49d26828ae9e_frames\\8d8992b0-6fce-4020-bf8c-49d26828ae9e_frame_0007.jpg\n",
      "Đã lưu: 8d8992b0-6fce-4020-bf8c-49d26828ae9e_frames\\8d8992b0-6fce-4020-bf8c-49d26828ae9e_frame_0008.jpg\n",
      "Đã lưu: 8d8992b0-6fce-4020-bf8c-49d26828ae9e_frames\\8d8992b0-6fce-4020-bf8c-49d26828ae9e_frame_0009.jpg\n",
      "\n",
      "Hoàn thành! Đã trích xuất 10/10 frame\n",
      "Thư mục chứa ảnh: 8d8992b0-6fce-4020-bf8c-49d26828ae9e_frames\n"
     ]
    }
   ],
   "source": [
    "import cv2\n",
    "import os\n",
    "from pathlib import Path\n",
    "\n",
    "def extract_frames_from_video(video_path, num_frames):\n",
    "    # Kiểm tra file video tồn tại\n",
    "    if not os.path.exists(video_path):\n",
    "        raise FileNotFoundError(f\"Không tìm thấy file video: {video_path}\")\n",
    "    \n",
    "    # Tạo thư mục output cùng với video\n",
    "    video_dir = os.path.dirname(video_path)\n",
    "    video_name = Path(video_path).stem\n",
    "    output_dir = os.path.join(video_dir, f\"{video_name}_frames\")\n",
    "    os.makedirs(output_dir, exist_ok=True)\n",
    "    \n",
    "    # Mở video\n",
    "    cap = cv2.VideoCapture(video_path)\n",
    "    total_frames = int(cap.get(cv2.CAP_PROP_FRAME_COUNT))\n",
    "    \n",
    "    # Tính bước nhảy giữa các frame\n",
    "    step = max(1, total_frames // num_frames)\n",
    "    print(f\"Tổng số frame: {total_frames}\")\n",
    "    print(f\"Số frame cần trích xuất: {num_frames}\")\n",
    "    print(f\"Bước nhảy: {step} frame\")\n",
    "    \n",
    "    extracted_count = 0\n",
    "    frame_idx = 0\n",
    "    \n",
    "    while extracted_count < num_frames and frame_idx < total_frames:\n",
    "        cap.set(cv2.CAP_PROP_POS_FRAMES, frame_idx)\n",
    "        ret, frame = cap.read()\n",
    "        \n",
    "        if not ret:\n",
    "            break\n",
    "            \n",
    "        # Lưu frame\n",
    "        output_path = os.path.join(output_dir, f\"{video_name}_frame_{extracted_count:04d}.jpg\")\n",
    "        cv2.imwrite(output_path, frame)\n",
    "        print(f\"Đã lưu: {output_path}\")\n",
    "        \n",
    "        extracted_count += 1\n",
    "        frame_idx += step\n",
    "    \n",
    "    cap.release()\n",
    "    print(f\"\\nHoàn thành! Đã trích xuất {extracted_count}/{num_frames} frame\")\n",
    "    print(f\"Thư mục chứa ảnh: {output_dir}\")\n",
    "\n",
    "# Sử dụng hàm\n",
    "video_path = \"8d8992b0-6fce-4020-bf8c-49d26828ae9e.mp4\"  # Thay bằng đường dẫn video của bạn\n",
    "num_frames = 10  # Số lượng ảnh muốn cắt ra\n",
    "\n",
    "extract_frames_from_video(video_path, num_frames)"
   ]
  },
  {
   "cell_type": "code",
   "execution_count": null,
   "id": "3917fa65-bbba-48f6-9ee1-34c4dbcb9405",
   "metadata": {},
   "outputs": [],
   "source": []
  }
 ],
 "metadata": {
  "kernelspec": {
   "display_name": "my_kernel",
   "language": "python",
   "name": "my_venv"
  },
  "language_info": {
   "codemirror_mode": {
    "name": "ipython",
    "version": 3
   },
   "file_extension": ".py",
   "mimetype": "text/x-python",
   "name": "python",
   "nbconvert_exporter": "python",
   "pygments_lexer": "ipython3",
   "version": "3.12.3"
  }
 },
 "nbformat": 4,
 "nbformat_minor": 5
}
